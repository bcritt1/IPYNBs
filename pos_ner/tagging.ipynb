version https://git-lfs.github.com/spec/v1
oid sha256:9227e4d0ef65746ebeb93b52c88a73b96c78a7079d31a7c84bebc60d3ef3a4ce
size 23566975
