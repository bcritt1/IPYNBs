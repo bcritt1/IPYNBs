version https://git-lfs.github.com/spec/v1
oid sha256:cb97a5e4618087ef69937aed4f696c71f81798894defa7f7bc53235c1db2ea69
size 7233
