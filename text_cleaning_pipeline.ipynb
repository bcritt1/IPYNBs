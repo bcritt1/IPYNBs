version https://git-lfs.github.com/spec/v1
oid sha256:936492cf84f8c9e73e312b5d04e2c9457a17f71593c90b2bb0985afc38e064ee
size 4625605
