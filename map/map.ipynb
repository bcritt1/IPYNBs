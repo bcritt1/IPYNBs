version https://git-lfs.github.com/spec/v1
oid sha256:671225c30c99c2d312af4286612171a41f7fa85abec36cf646419540ac645402
size 7827666
