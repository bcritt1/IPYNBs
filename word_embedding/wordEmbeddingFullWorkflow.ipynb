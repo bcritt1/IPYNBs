version https://git-lfs.github.com/spec/v1
oid sha256:db459957e88853bdb4d78f058955914dad780621c055acdeefbf549b4b76a116
size 122444829
