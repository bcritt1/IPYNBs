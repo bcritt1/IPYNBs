version https://git-lfs.github.com/spec/v1
oid sha256:d9f157a34ec7fc6e7b987b14e0b92d5dcf3bf1eb0b1ff9949172b12a7550ffcb
size 3808426
